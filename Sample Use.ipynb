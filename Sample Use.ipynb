{
 "cells": [
  {
   "cell_type": "code",
   "execution_count": 92,
   "metadata": {
    "collapsed": false
   },
   "outputs": [],
   "source": [
    "%run read_csv_improved.py"
   ]
  },
  {
   "cell_type": "code",
   "execution_count": 95,
   "metadata": {
    "collapsed": false
   },
   "outputs": [],
   "source": [
    "df_2 = pd.read_csv_improved(\"test_df.csv\", serialized_cols=['GIDListFixed','GIDListV22','GIDList'])"
   ]
  },
  {
   "cell_type": "code",
   "execution_count": 96,
   "metadata": {
    "collapsed": false
   },
   "outputs": [
    {
     "data": {
      "text/html": [
       "<div>\n",
       "<table border=\"1\" class=\"dataframe\">\n",
       "  <thead>\n",
       "    <tr style=\"text-align: right;\">\n",
       "      <th></th>\n",
       "      <th>Title</th>\n",
       "      <th>Description</th>\n",
       "      <th>GIDList</th>\n",
       "      <th>GIDListV22</th>\n",
       "      <th>PredV31</th>\n",
       "      <th>PredV22</th>\n",
       "      <th>GIDListFixed</th>\n",
       "    </tr>\n",
       "  </thead>\n",
       "  <tbody>\n",
       "    <tr>\n",
       "      <th>0</th>\n",
       "      <td>Regional Sales Director-West</td>\n",
       "      <td>THE COMPANY Established Midwest based manufact...</td>\n",
       "      <td>(11.21, 41.63)</td>\n",
       "      <td>(11.21, 41.63)</td>\n",
       "      <td>11.210</td>\n",
       "      <td>11.210</td>\n",
       "      <td>(11.21, 41.63)</td>\n",
       "    </tr>\n",
       "    <tr>\n",
       "      <th>1</th>\n",
       "      <td>Territory Manager</td>\n",
       "      <td>In order to get a quicker response refer to # ...</td>\n",
       "      <td>(11.57)</td>\n",
       "      <td>(11.57)</td>\n",
       "      <td>11.570</td>\n",
       "      <td>11.570</td>\n",
       "      <td>(11.57)</td>\n",
       "    </tr>\n",
       "    <tr>\n",
       "      <th>2</th>\n",
       "      <td>Production Director</td>\n",
       "      <td>Primary Purpose: To support the marketing, sal...</td>\n",
       "      <td>(27.1086)</td>\n",
       "      <td>(11.17)</td>\n",
       "      <td>11.170</td>\n",
       "      <td>11.170</td>\n",
       "      <td>()</td>\n",
       "    </tr>\n",
       "    <tr>\n",
       "      <th>3</th>\n",
       "      <td>Construction Project Manager</td>\n",
       "      <td>The ideal candidate with have at least 3 years...</td>\n",
       "      <td>(47.1012)</td>\n",
       "      <td>(11.1, 11.30, 47.156)</td>\n",
       "      <td>47.156</td>\n",
       "      <td>47.156</td>\n",
       "      <td>(47.1012)</td>\n",
       "    </tr>\n",
       "  </tbody>\n",
       "</table>\n",
       "</div>"
      ],
      "text/plain": [
       "                          Title  \\\n",
       "0  Regional Sales Director-West   \n",
       "1             Territory Manager   \n",
       "2           Production Director   \n",
       "3  Construction Project Manager   \n",
       "\n",
       "                                         Description         GIDList  \\\n",
       "0  THE COMPANY Established Midwest based manufact...  (11.21, 41.63)   \n",
       "1  In order to get a quicker response refer to # ...         (11.57)   \n",
       "2  Primary Purpose: To support the marketing, sal...       (27.1086)   \n",
       "3  The ideal candidate with have at least 3 years...       (47.1012)   \n",
       "\n",
       "              GIDListV22  PredV31  PredV22    GIDListFixed  \n",
       "0         (11.21, 41.63)   11.210   11.210  (11.21, 41.63)  \n",
       "1                (11.57)   11.570   11.570         (11.57)  \n",
       "2                (11.17)   11.170   11.170              ()  \n",
       "3  (11.1, 11.30, 47.156)   47.156   47.156       (47.1012)  "
      ]
     },
     "execution_count": 96,
     "metadata": {},
     "output_type": "execute_result"
    }
   ],
   "source": [
    "df_2"
   ]
  },
  {
   "cell_type": "code",
   "execution_count": null,
   "metadata": {
    "collapsed": false
   },
   "outputs": [],
   "source": []
  },
  {
   "cell_type": "code",
   "execution_count": null,
   "metadata": {
    "collapsed": false
   },
   "outputs": [],
   "source": []
  },
  {
   "cell_type": "code",
   "execution_count": null,
   "metadata": {
    "collapsed": false
   },
   "outputs": [],
   "source": []
  },
  {
   "cell_type": "code",
   "execution_count": null,
   "metadata": {
    "collapsed": false
   },
   "outputs": [],
   "source": []
  },
  {
   "cell_type": "code",
   "execution_count": null,
   "metadata": {
    "collapsed": true
   },
   "outputs": [],
   "source": []
  }
 ],
 "metadata": {
  "kernelspec": {
   "display_name": "Python 3",
   "language": "python",
   "name": "python3"
  },
  "language_info": {
   "codemirror_mode": {
    "name": "ipython",
    "version": 3
   },
   "file_extension": ".py",
   "mimetype": "text/x-python",
   "name": "python",
   "nbconvert_exporter": "python",
   "pygments_lexer": "ipython3",
   "version": "3.6.0"
  }
 },
 "nbformat": 4,
 "nbformat_minor": 2
}
